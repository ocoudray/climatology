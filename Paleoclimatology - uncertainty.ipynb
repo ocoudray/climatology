{
 "cells": [
  {
   "cell_type": "markdown",
   "metadata": {},
   "source": [
    "# Paleoclimatology : temperature reconstruction between 1000 and 2100"
   ]
  },
  {
   "cell_type": "code",
   "execution_count": null,
   "metadata": {},
   "outputs": [],
   "source": [
    "%load_ext autoreload\n",
    "%autoreload 2"
   ]
  },
  {
   "cell_type": "markdown",
   "metadata": {},
   "source": [
    "## Import modules"
   ]
  },
  {
   "cell_type": "code",
   "execution_count": null,
   "metadata": {},
   "outputs": [],
   "source": [
    "import pandas as pd\n",
    "from model import PaleoModel, PaleoModel2, PaleoModel3\n",
    "import numpy as np\n",
    "from gibbs import Gibbs\n",
    "import matplotlib.pyplot as plt\n",
    "from utils import FractionalGaussianNoise, AR1, AR2, WhiteNoise"
   ]
  },
  {
   "cell_type": "markdown",
   "metadata": {},
   "source": [
    "## Load data"
   ]
  },
  {
   "cell_type": "code",
   "execution_count": null,
   "metadata": {},
   "outputs": [],
   "source": [
    "Temperatures = pd.read_csv('data/Temperatures.csv', index_col=1)['temp']\n",
    "T2 = pd.read_csv('data/Temperatures2.csv', index_col=1)['temp']\n",
    "Forcings = pd.read_csv('data/forcings_with_prediction.csv')\n",
    "Proxies = pd.read_csv('data/Proxies.csv', index_col=1)['PCR']\n",
    "V_spike = pd.read_csv('data/median_volcanic_spike.csv')['x']"
   ]
  },
  {
   "cell_type": "code",
   "execution_count": null,
   "metadata": {},
   "outputs": [],
   "source": [
    "plt.figure(figsize=(15,15))\n",
    "plt.subplot(2,2,1)\n",
    "plt.plot(Forcings['solar'], label='Total solar irradiance')\n",
    "plt.legend(fontsize='x-large')\n",
    "plt.subplot(2,2,2)\n",
    "plt.plot(Forcings['volcanic'], label = 'Volcanism')\n",
    "plt.legend(fontsize='x-large')\n",
    "plt.subplot(2,2,3)\n",
    "plt.plot(Forcings['CO2_RCP_2.6'], label = 'CO2 RCP 2.6')\n",
    "plt.plot(Forcings['CO2_RCP_4.5'], label = 'CO2 RCP 4.5')\n",
    "plt.plot(Forcings['CO2_RCP_6.0'], label = 'CO2 RCP 6.0')\n",
    "plt.plot(Forcings['CO2_RCP_8.5'], label = 'CO2 RCP 8.5')\n",
    "plt.legend(fontsize='x-large')\n",
    "plt.subplot(2,2,4)\n",
    "plt.plot(Forcings['CO2_RCP_2.6'][1900:], label = 'CO2 RCP 2.6')\n",
    "plt.plot(Forcings['CO2_RCP_4.5'][1900:], label = 'CO2 RCP 4.5')\n",
    "plt.plot(Forcings['CO2_RCP_6.0'][1900:], label = 'CO2 RCP 6.0')\n",
    "plt.plot(Forcings['CO2_RCP_8.5'][1900:], label = 'CO2 RCP 8.5')\n",
    "plt.legend(fontsize='x-large')\n",
    "plt.plot()"
   ]
  },
  {
   "cell_type": "code",
   "execution_count": null,
   "metadata": {},
   "outputs": [],
   "source": [
    "plt.figure(figsize=(10,10))\n",
    "plt.plot(Proxies)\n",
    "plt.show()"
   ]
  },
  {
   "cell_type": "code",
   "execution_count": null,
   "metadata": {},
   "outputs": [],
   "source": [
    "t1, t2, t3, t4 = 1000, 1900, 2000, 2100"
   ]
  },
  {
   "cell_type": "markdown",
   "metadata": {},
   "source": [
    "## Preprocess data"
   ]
  },
  {
   "cell_type": "code",
   "execution_count": null,
   "metadata": {},
   "outputs": [],
   "source": [
    "T2 = np.array(Temperatures.loc[Temperatures.index.isin(range(t2,t3))])\n",
    "RP = np.array(Proxies[Proxies.index.isin(range(t1,t3))])\n",
    "S  = np.array(Forcings['solar'].loc[Forcings.index.isin(range(t1,t4))])\n",
    "V  = np.array(Forcings['volcanic'].loc[Forcings.index.isin(range(t1,t4))])\n",
    "C1 = np.array(Forcings['CO2_RCP_2.6'].loc[Forcings.index.isin(range(t1,t4))])\n",
    "C2 = np.array(Forcings['CO2_RCP_4.5'].loc[Forcings.index.isin(range(t1,t4))])\n",
    "C3 = np.array(Forcings['CO2_RCP_6.0'].loc[Forcings.index.isin(range(t1,t4))])\n",
    "C4 = np.array(Forcings['CO2_RCP_8.5'].loc[Forcings.index.isin(range(t1,t4))])"
   ]
  },
  {
   "cell_type": "code",
   "execution_count": null,
   "metadata": {},
   "outputs": [],
   "source": [
    "c12 = (C2[-1]-C1[-1])/2\n",
    "c23 = (C3[-1]-C2[-1])/2\n",
    "c34 = (C4[-1]-C3[-1])/2\n",
    "C1_var = c12\n",
    "C2_var = min(c12, c23)\n",
    "C3_var = min(c23, c34)\n",
    "C4_var = c34"
   ]
  },
  {
   "cell_type": "markdown",
   "metadata": {},
   "source": [
    "## Gibbs sampler"
   ]
  },
  {
   "cell_type": "code",
   "execution_count": null,
   "metadata": {},
   "outputs": [],
   "source": [
    "m = PaleoModel3(t1, t2, t3, t4, S, V, V_spike, C4, 0, T2, RP, H_init=0.6, K_init=0.5, step_H=0.03, step_K=0.03, n_iterations_MH=1)\n",
    "# m = PaleoModel(t1, t2, t3, t4, S, V, C3, T2, RP, H_init=0.5, K_init=0.5, step_H=0.03, step_K=0.03, n_iterations_MH=1)"
   ]
  },
  {
   "cell_type": "code",
   "execution_count": null,
   "metadata": {},
   "outputs": [],
   "source": [
    "g = Gibbs(m, noise_H=AR1(), noise_K=AR1(), dashboard=False)"
   ]
  },
  {
   "cell_type": "code",
   "execution_count": null,
   "metadata": {},
   "outputs": [],
   "source": [
    "g.dashboard # Dashboard for live plotting"
   ]
  },
  {
   "cell_type": "code",
   "execution_count": null,
   "metadata": {},
   "outputs": [],
   "source": [
    "g.run(n=50) # run gibbs sampler"
   ]
  },
  {
   "cell_type": "markdown",
   "metadata": {},
   "source": [
    "## Display results"
   ]
  },
  {
   "cell_type": "code",
   "execution_count": null,
   "metadata": {},
   "outputs": [],
   "source": [
    "g.get_results(['alpha', 'beta', 'sigma_p', 'sigma_T', 'H', 'K'], last_n=500)"
   ]
  },
  {
   "cell_type": "code",
   "execution_count": null,
   "metadata": {},
   "outputs": [],
   "source": [
    "g.plot_T_reconstruction(last_n=500)"
   ]
  },
  {
   "cell_type": "code",
   "execution_count": null,
   "metadata": {},
   "outputs": [],
   "source": [
    "g.histogram('alpha', last_n=5000)"
   ]
  },
  {
   "cell_type": "code",
   "execution_count": null,
   "metadata": {},
   "outputs": [],
   "source": [
    "g.histogram('beta', last_n=5000)"
   ]
  },
  {
   "cell_type": "code",
   "execution_count": null,
   "metadata": {},
   "outputs": [],
   "source": [
    "g.histogram('sigma_p', last_n=5000)"
   ]
  },
  {
   "cell_type": "code",
   "execution_count": null,
   "metadata": {},
   "outputs": [],
   "source": [
    "g.histogram('sigma_T', last_n=1200)"
   ]
  },
  {
   "cell_type": "code",
   "execution_count": null,
   "metadata": {},
   "outputs": [],
   "source": [
    "g.ECP(0.8)"
   ]
  },
  {
   "cell_type": "code",
   "execution_count": null,
   "metadata": {},
   "outputs": [],
   "source": [
    "g.ECP(0.95)"
   ]
  },
  {
   "cell_type": "code",
   "execution_count": null,
   "metadata": {},
   "outputs": [],
   "source": [
    "g.RMSE()"
   ]
  },
  {
   "cell_type": "code",
   "execution_count": null,
   "metadata": {},
   "outputs": [],
   "source": [
    "g.CRPS(last_n=1200)"
   ]
  },
  {
   "cell_type": "code",
   "execution_count": null,
   "metadata": {},
   "outputs": [],
   "source": [
    "g.IS(a=0.95, last_n=1200)"
   ]
  },
  {
   "cell_type": "code",
   "execution_count": null,
   "metadata": {},
   "outputs": [],
   "source": [
    "g.IS(a=0.8, last_n=1200)"
   ]
  },
  {
   "cell_type": "markdown",
   "metadata": {},
   "source": [
    "## Save dataset"
   ]
  },
  {
   "cell_type": "code",
   "execution_count": null,
   "metadata": {},
   "outputs": [],
   "source": [
    "data = g.save_to_xarray(filename='../history/model3_RCP8.5_ex.netcdf')"
   ]
  },
  {
   "cell_type": "code",
   "execution_count": null,
   "metadata": {},
   "outputs": [],
   "source": [
    "g.model.data"
   ]
  },
  {
   "cell_type": "code",
   "execution_count": null,
   "metadata": {},
   "outputs": [],
   "source": []
  }
 ],
 "metadata": {
  "kernelspec": {
   "display_name": "Python 3",
   "language": "python",
   "name": "python3"
  },
  "language_info": {
   "codemirror_mode": {
    "name": "ipython",
    "version": 3
   },
   "file_extension": ".py",
   "mimetype": "text/x-python",
   "name": "python",
   "nbconvert_exporter": "python",
   "pygments_lexer": "ipython3",
   "version": "3.6.5"
  }
 },
 "nbformat": 4,
 "nbformat_minor": 2
}
